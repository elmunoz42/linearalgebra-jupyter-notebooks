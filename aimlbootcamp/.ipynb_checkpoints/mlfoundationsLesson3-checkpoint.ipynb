{
 "cells": [
  {
   "cell_type": "code",
   "execution_count": 8,
   "id": "7c606126-36ce-4d6e-8806-210f6215e238",
   "metadata": {},
   "outputs": [],
   "source": [
    "import numpy as np\n",
    "from numpy import linalg"
   ]
  },
  {
   "cell_type": "code",
   "execution_count": 5,
   "id": "2f86866f-1b4e-49ac-989d-fa9b5d649103",
   "metadata": {},
   "outputs": [],
   "source": [
    "a = np.array([10,20,30,40,50])\n",
    "b = np.array([60,70,80,90,100])"
   ]
  },
  {
   "cell_type": "code",
   "execution_count": 10,
   "id": "1d9426d9-00f6-4768-bb81-37e5dd3eeaf0",
   "metadata": {},
   "outputs": [
    {
     "data": {
      "text/plain": [
       "74.16198487095663"
      ]
     },
     "execution_count": 10,
     "metadata": {},
     "output_type": "execute_result"
    }
   ],
   "source": [
    "linalg.norm(a)"
   ]
  },
  {
   "cell_type": "code",
   "execution_count": 11,
   "id": "a2e39e12-a896-4038-96fb-a2e8d7966a85",
   "metadata": {},
   "outputs": [],
   "source": [
    "vector_projection=(np.dot(a,b)/np.dot(b,b))*b"
   ]
  },
  {
   "cell_type": "code",
   "execution_count": 12,
   "id": "09a6fbff-1c2a-4b76-8361-742e66356d28",
   "metadata": {},
   "outputs": [
    {
     "name": "stdout",
     "output_type": "stream",
     "text": [
      "[23.63636364 27.57575758 31.51515152 35.45454545 39.39393939]\n"
     ]
    }
   ],
   "source": [
    "print(vector_projection)"
   ]
  },
  {
   "cell_type": "code",
   "execution_count": null,
   "id": "361b93c2-0bd8-40b5-9212-823ca78c4439",
   "metadata": {},
   "outputs": [],
   "source": []
  }
 ],
 "metadata": {
  "kernelspec": {
   "display_name": "Python 3 (ipykernel)",
   "language": "python",
   "name": "python3"
  },
  "language_info": {
   "codemirror_mode": {
    "name": "ipython",
    "version": 3
   },
   "file_extension": ".py",
   "mimetype": "text/x-python",
   "name": "python",
   "nbconvert_exporter": "python",
   "pygments_lexer": "ipython3",
   "version": "3.11.7"
  }
 },
 "nbformat": 4,
 "nbformat_minor": 5
}
